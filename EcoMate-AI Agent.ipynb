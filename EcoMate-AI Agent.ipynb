{
  "nbformat": 4,
  "nbformat_minor": 0,
  "metadata": {
    "colab": {
      "provenance": []
    },
    "kernelspec": {
      "name": "python3",
      "display_name": "Python 3"
    },
    "language_info": {
      "name": "python"
    }
  },
  "cells": [
    {
      "cell_type": "code",
      "execution_count": 11,
      "metadata": {
        "collapsed": true,
        "id": "k4tRJNKv4H47"
      },
      "outputs": [],
      "source": [
        "!pip install langchain langgraph langchain-openai openai faiss-cpu requests gradio --quiet"
      ]
    },
    {
      "cell_type": "code",
      "source": [
        "import os\n",
        "import getpass\n",
        "import requests\n",
        "import gradio as gr\n",
        "\n",
        "# Securely input API keys\n",
        "os.environ[\"OPENAI_API_KEY\"] = getpass.getpass(\"\\U0001F511 Enter your OpenAI API key: \")\n",
        "os.environ[\"WEATHER_API_KEY\"] = getpass.getpass(\"\\U0001F327️ Enter your OpenWeather API key: \")\n",
        "\n",
        "\n",
        "\n"
      ],
      "metadata": {
        "colab": {
          "base_uri": "https://localhost:8080/"
        },
        "id": "ezJlgw4T-OZf",
        "outputId": "cafc7167-e696-4b1f-de98-c7a858e8fa56"
      },
      "execution_count": 12,
      "outputs": [
        {
          "name": "stdout",
          "output_type": "stream",
          "text": [
            "🔑 Enter your OpenAI API key: ··········\n",
            "🌧️ Enter your OpenWeather API key: ··········\n"
          ]
        }
      ]
    },
    {
      "cell_type": "code",
      "source": [
        "def get_weather(city):\n",
        "    api_key = os.getenv(\"WEATHER_API_KEY\")\n",
        "    if not api_key:\n",
        "        raise ValueError(\"Weather API key not set.\")\n",
        "\n",
        "    url = f\"http://api.openweathermap.org/data/2.5/weather?q={city}&appid={api_key}&units=metric\"\n",
        "    response = requests.get(url)\n",
        "    data = response.json()\n",
        "\n",
        "    if response.status_code != 200 or \"main\" not in data:\n",
        "        raise ValueError(data.get(\"message\", \"Unknown weather error.\"))\n",
        "\n",
        "    temp = data[\"main\"][\"temp\"]\n",
        "    desc = data[\"weather\"][0][\"description\"]\n",
        "    return temp, desc\n",
        "\n",
        "\n"
      ],
      "metadata": {
        "collapsed": true,
        "id": "zLs6xdJJBDEg"
      },
      "execution_count": 13,
      "outputs": []
    },
    {
      "cell_type": "code",
      "source": [
        "# for aqi level\n",
        "\n",
        "def get_aqi(city):\n",
        "    api_key = os.getenv(\"WEATHER_API_KEY\")\n",
        "    geo_url = f\"http://api.openweathermap.org/geo/1.0/direct?q={city}&limit=1&appid={api_key}\"\n",
        "    geo_resp = requests.get(geo_url).json()\n",
        "    if not geo_resp:\n",
        "        raise ValueError(\"Invalid city for AQI.\")\n",
        "\n",
        "    lat, lon = geo_resp[0][\"lat\"], geo_resp[0][\"lon\"]\n",
        "    aqi_url = f\"http://api.openweathermap.org/data/2.5/air_pollution?lat={lat}&lon={lon}&appid={api_key}\"\n",
        "    aqi_resp = requests.get(aqi_url).json()\n",
        "\n",
        "    aqi_index = aqi_resp[\"list\"][0][\"main\"][\"aqi\"]\n",
        "    levels = {1: \"Good\", 2: \"Fair\", 3: \"Moderate\", 4: \"Poor\", 5: \"Very Poor\"}\n",
        "    return f\"AQI in {city}: {levels.get(aqi_index, 'Unknown')}\"\n"
      ],
      "metadata": {
        "id": "5h4bv8nXFp_A"
      },
      "execution_count": 14,
      "outputs": []
    },
    {
      "cell_type": "code",
      "source": [
        "# carbon estimation\n",
        "def estimate_carbon(mode, distance_km):\n",
        "    rates = {\"car\": 0.21, \"air-plane\": 0.15, \"bus\": 0.1, \"train\": 0.05, \"bike\": 0.0, \"walk\": 0.0}\n",
        "    emission = rates.get(mode, 0.21) * distance_km\n",
        "    return f\"Estimated CO₂: {emission:.2f} kg\"\n",
        "\n",
        "\n"
      ],
      "metadata": {
        "id": "-sPFGWVXRLOp"
      },
      "execution_count": 15,
      "outputs": []
    },
    {
      "cell_type": "code",
      "source": [
        "# smart suggestion\n",
        "\n",
        "def suggest_transport(weather_desc, distance_km):\n",
        "    if distance_km < 2:\n",
        "        return \"🚶 Suggestion: Walk\"\n",
        "    elif distance_km < 5 and \"rain\" not in weather_desc.lower():\n",
        "        return \"🚴 Suggestion: Bike\"\n",
        "    elif \"rain\" in weather_desc.lower():\n",
        "        return \"🚌 Suggestion: Take the bus (bad weather)\"\n",
        "    else:\n",
        "        return \"🚇 Suggestion: Use train or shared transport\""
      ],
      "metadata": {
        "id": "XTrhbFdRRUw9",
        "collapsed": true
      },
      "execution_count": 16,
      "outputs": []
    },
    {
      "cell_type": "code",
      "source": [
        "from langchain_openai import OpenAI\n",
        "from langchain.agents import Tool, initialize_agent\n",
        "\n",
        "llm = OpenAI(temperature=0.5)\n",
        "\n",
        "tools = [\n",
        "    Tool(\n",
        "        name=\"WeatherTool\",\n",
        "        func=lambda city: f\"Weather in {city}: {get_weather(city)[1]}\",\n",
        "        description=\"Get weather description for a given city.\"\n",
        "    ),\n",
        "    Tool(\n",
        "        name=\"CarbonTool\",\n",
        "        func=lambda tool_input: estimate_carbon(tool_input['mode'], tool_input['distance']),\n",
        "        description=\"Estimate CO₂ for a trip. Input: {'mode': str, 'distance': float}\"\n",
        "    ),\n",
        "    Tool(\n",
        "        name=\"AQITool\",\n",
        "        func=get_aqi,\n",
        "        description=\"Fetch Air Quality Index for a given city.\"\n",
        "    )\n",
        "]\n",
        "\n",
        "agent = initialize_agent(\n",
        "    tools=tools,\n",
        "    llm=llm,\n",
        "    agent=\"zero-shot-react-description\",\n",
        "    verbose=True\n",
        ")"
      ],
      "metadata": {
        "id": "HCuhTTPjecJS"
      },
      "execution_count": 17,
      "outputs": []
    },
    {
      "cell_type": "code",
      "source": [
        "goals_done = []\n",
        "\n",
        "# Gradio Interface\n",
        "\n",
        "def eco_agent_interface(city, mode, distance, goal_done):\n",
        "    try:\n",
        "        temp, weather_desc = get_weather(city)\n",
        "        carbon = estimate_carbon(mode, float(distance))\n",
        "        suggestion = suggest_transport(weather_desc, float(distance))\n",
        "        aqi_info = get_aqi(city)\n",
        "\n",
        "        if goal_done:\n",
        "            goals_done.append((city, mode))\n",
        "            goal_msg = \"✅ You completed today's climate-friendly action!\"\n",
        "        else:\n",
        "            goal_msg = \"🔁 Try completing your daily eco action tomorrow!\"\n",
        "\n",
        "        return f\"\"\"\\n🌡️ Weather in {city}: {temp}°C, {weather_desc}\\n{aqi_info}\\n\\n{carbon}\\n{suggestion}\\n\\n{goal_msg}\"\"\"\n",
        "\n",
        "    except Exception as e:\n",
        "        return f\"❌ Error: {str(e)}\"\n",
        "\n"
      ],
      "metadata": {
        "id": "ppolOWNBedb-"
      },
      "execution_count": 18,
      "outputs": []
    },
    {
      "cell_type": "code",
      "source": [
        "#launch web app\n",
        "\n",
        "gr.Interface(\n",
        "    fn=eco_agent_interface,\n",
        "    inputs=[\n",
        "        gr.Textbox(label=\"City Name\"),\n",
        "        gr.Dropdown([\"car\", \"air-plane\", \"bus\", \"train\", \"bike\", \"walk\"], label=\"Transport Mode\"),\n",
        "        gr.Number(label=\"Distance in km\"),\n",
        "        gr.Checkbox(label=\"Did you complete your eco-friendly action today?\")\n",
        "    ],\n",
        "    outputs=\"text\",\n",
        "    title=\"🌿 EcoMate Pro – Agentic AI for Climate Action\",\n",
        "    description=\"Get real-time weather, AQI, carbon impact & personalized transport suggestions\"\n",
        ").launch(share=True)"
      ],
      "metadata": {
        "colab": {
          "base_uri": "https://localhost:8080/",
          "height": 611
        },
        "id": "eon9xV6Mehg9",
        "outputId": "f885d861-b27c-494c-da64-38a8f7eeaa22"
      },
      "execution_count": 19,
      "outputs": [
        {
          "output_type": "stream",
          "name": "stdout",
          "text": [
            "Colab notebook detected. To show errors in colab notebook, set debug=True in launch()\n",
            "* Running on public URL: https://fb421fb57ba1c628e3.gradio.live\n",
            "\n",
            "This share link expires in 1 week. For free permanent hosting and GPU upgrades, run `gradio deploy` from the terminal in the working directory to deploy to Hugging Face Spaces (https://huggingface.co/spaces)\n"
          ]
        },
        {
          "output_type": "display_data",
          "data": {
            "text/plain": [
              "<IPython.core.display.HTML object>"
            ],
            "text/html": [
              "<div><iframe src=\"https://fb421fb57ba1c628e3.gradio.live\" width=\"100%\" height=\"500\" allow=\"autoplay; camera; microphone; clipboard-read; clipboard-write;\" frameborder=\"0\" allowfullscreen></iframe></div>"
            ]
          },
          "metadata": {}
        },
        {
          "output_type": "execute_result",
          "data": {
            "text/plain": []
          },
          "metadata": {},
          "execution_count": 19
        }
      ]
    }
  ]
}